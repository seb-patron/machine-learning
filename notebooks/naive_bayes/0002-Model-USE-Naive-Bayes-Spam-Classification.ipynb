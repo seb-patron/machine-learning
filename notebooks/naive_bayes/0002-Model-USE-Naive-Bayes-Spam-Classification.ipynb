{
 "cells": [
  {
   "cell_type": "markdown",
   "metadata": {},
   "source": [
    "# Naive Bayes Spam Classifier\n",
    "\n",
    "Naive Bayes classifiers are a type of machine learning algorithm based applying [bayes theorem](https://en.wikipedia.org/wiki/Bayes%27_theorem) with strong (naive) independence assumptions between features. In short, a naive bayes classifier treats every features independent from each other, making inference very efficient. These types of classifiers are commonly used for spam detection.\n",
    "\n",
    "## Before we start...\n",
    "\n",
    "Let's quickly cover some of the basic definitions needed to understand our problem.\n",
    "\n",
    "### Bayes Theorem\n",
    "\n",
    "Bayes Theorem describes the probability of an event, based on prior knowledge of conditions that might be related to the event. Bayes Theorem is considered \"naive\" because it assumes that the presence (or absence) of a particular feature of a class is unrelated to the presence (or absence) of any other feature. In other words, every feature is taken into account without considering the existence of another feature.\n",
    "\n",
    "Mathmatically, Bayes Theorem can be written as:\n",
    "\n",
    "$$\n",
    "P(A \\mid B) = \\frac{P(B \\mid A) \\, P(A)}{P(B)}\n",
    "$$\n",
    "\n",
    "Lets break this down:\n",
    "- $A$ and $B$ are considered seperate events, and the Probability of $B$ (ie $P(B)$) ≠ 0.\n",
    "- $P(A)$ and $P(B)$ are the probabilities of observing events $A$ and $B$ without regard to each other.\n",
    "- $ P(A \\mid B) $ is the probability of observing event $A$ given that $B$ is true\n",
    "- $ P(B \\mid A) $ is the probability of observing event $B$ given that $A$ is true\n",
    "\n",
    "When applying Bayes Theorem to spam classification, we can rewrite the problem statment as:\n",
    "\n",
    "$$\n",
    "P(\\textrm{spam} \\mid \\textrm{w}1 \\cap \\textrm{w}2 \\> \\cap .. \\cap \\> \\textrm{w}n) = \\frac{P(\\textrm{w}1 \\cap \\textrm{w}2 \\> \\cap \\> .. \\cap \\> \\textrm{w}n \\mid \\textrm{spam}) \\, P(\\textrm{spam})}{P(\\textrm{w}1 \\cap \\textrm{w}2 \\> \\cap \\> .. \\cap \\> \\textrm{w}n)}\n",
    "$$\n",
    "\n",
    "Now, we have a message m that is made up of n number of words, or m = $ (w1 \\cap w2 \\cap .. \\cap wn) $. We assume the occurence of any word wn is independent of all other words.\n",
    "\n",
    "\n",
    "\n",
    "## 1. Environment Setup"
   ]
  },
  {
   "cell_type": "code",
   "execution_count": 1,
   "metadata": {},
   "outputs": [
    {
     "name": "stdout",
     "output_type": "stream",
     "text": [
      "Wed Dec 26 2018 \n",
      "\n",
      "CPython 3.7.1\n",
      "IPython 7.2.0\n",
      "\n",
      "numpy 1.15.4\n",
      "scipy 1.1.0\n",
      "sklearn 0.20.1\n",
      "pandas 0.23.4\n",
      "matplotlib 3.0.2\n",
      "\n",
      "compiler   : Clang 4.0.1 (tags/RELEASE_401/final)\n",
      "system     : Darwin\n",
      "release    : 18.0.0\n",
      "machine    : x86_64\n",
      "processor  : i386\n",
      "CPU cores  : 4\n",
      "interpreter: 64bit\n",
      "/Users/sebp/LocalDocuments2/DataScience/Personal/MachineLearning/MachineLearning\n",
      "/Users/sebp/LocalDocuments2/DataScience/Personal/MachineLearning/MachineLearning/models\n"
     ]
    }
   ],
   "source": [
    "# Loads watermark extension and prints details about current platform\n",
    "%load_ext watermark\n",
    "%watermark -v -n -m -p numpy,scipy,sklearn,pandas,matplotlib\n",
    "# autoreloads changes in imported files\n",
    "%load_ext autoreload\n",
    "%autoreload 2\n",
    " \n",
    "# import packages\n",
    "%matplotlib inline\n",
    "import pandas as pd\n",
    "import numpy as np\n",
    "import seaborn as sns\n",
    "import matplotlib.pyplot as plt\n",
    "import os\n",
    "import re\n",
    "from sklearn.naive_bayes import BernoulliNB\n",
    "\n",
    "# Get project directory\n",
    "PROJ_ROOT = os.path.abspath(os.path.join(os.pardir, os.pardir))\n",
    "print(PROJ_ROOT)\n",
    "import sys\n",
    "\n",
    "module_path = os.path.abspath(os.path.join(os.pardir, os.pardir, 'models'))\n",
    "if module_path not in sys.path:\n",
    "    print (module_path)\n",
    "    sys.path.append(module_path)\n",
    "\n",
    "import naive_bayes as classifier\n",
    "\n",
    "%load_ext dotenv\n",
    "\n",
    "# Use find_dotenv to locate the file\n",
    "%dotenv\n",
    "\n",
    "\n",
    "# make sure matplotlib will display inline\n",
    "%matplotlib inline"
   ]
  },
  {
   "cell_type": "markdown",
   "metadata": {},
   "source": [
    "Build and test the model"
   ]
  },
  {
   "cell_type": "code",
   "execution_count": 2,
   "metadata": {},
   "outputs": [],
   "source": [
    "def build_and_test_model():\n",
    "    naive_bayes_classifier = classifier.NaiveBayesClassifier(db_credentials = {'user' : os.environ.get('DB_USER'),\n",
    "        'password' : os.environ.get('DB_PASSWORD'),\n",
    "        'host' : os.environ.get('DB_HOST'),\n",
    "        'port' : os.environ.get('DB_PORT'),\n",
    "        'database' : os.environ.get('DB_DATABASE')})\n",
    "\n",
    "    print('UCI SMS SPAM CLASSIFICATION PROBLEM SET\\n  -- implemented by Bernoulli Naive Bayes Model\\n')\n",
    "#     naive_bayes_classifier.tabu_file = PROJ_ROOT + '/data/naive_bayes/interim/tabu.txt'          # user defined tabu file\n",
    "\n",
    "    # build a tabu list based on the training data\n",
    "    naive_bayes_classifier.tabu_list = naive_bayes_classifier.generate_tabu_list()\n",
    "\n",
    "    naive_bayes_classifier.tabu, naive_bayes_classifier.tabu_length = naive_bayes_classifier.read_tabu_list(naive_bayes_classifier.tabu_list)\n",
    "    # train the Naive Bayes Model using training data\n",
    "    naive_bayes_classifier.NaiveBayes=naive_bayes_classifier.learn()\n",
    "    # Test Model using testing data\n",
    "    naive_bayes_classifier.test(naive_bayes_classifier.NaiveBayes)\n",
    "    print('>>>Testing')\n",
    "    # I select two messages from the test data here.\n",
    "    naive_bayes_classifier.predictSMS('how many rows through dataframe that function will process')\n",
    "    naive_bayes_classifier.predictSMS('Had your mobile 10 mths? Update to the latest Camera/Video phones for FREE. KEEP UR SAME NUMBER, Get extra free mins/texts. Text YES for a call')"
   ]
  },
  {
   "cell_type": "code",
   "execution_count": 3,
   "metadata": {},
   "outputs": [
    {
     "name": "stdout",
     "output_type": "stream",
     "text": [
      "UCI SMS SPAM CLASSIFICATION PROBLEM SET\n",
      "  -- implemented by Bernoulli Naive Bayes Model\n",
      "\n",
      ">>>Generating Tabu List...\n",
      "  Tabu List Size: 300\n",
      "   The words shorter than 3 are ignored by model\n",
      "\n",
      ">>>Learning...\n",
      "  Learning Sample Size: 4429\n",
      "  Accuarcy (Training sample): 98.22％\n",
      "\n",
      ">>>Cross Validation...\n",
      "  Testing Sample Size: 1118\n",
      "  Accuarcy (Testing sample): 98.12％\n",
      "\n",
      ">>>Testing\n",
      "HAM: how many rows through dataframe that function will process\n",
      "SPAM: Had your mobile 10 mths? Update to the latest Camera/Video phones for FREE. KEEP UR SAME NUMBER, Get extra free mins/texts. Text YES for a call\n"
     ]
    }
   ],
   "source": [
    "build_and_test_model()"
   ]
  },
  {
   "cell_type": "code",
   "execution_count": 6,
   "metadata": {},
   "outputs": [],
   "source": [
    "def build_and_test_model2():\n",
    "    naive_bayes_classifier = classifier.NaiveBayesClassifier(db_credentials = {'user' : os.environ.get('DB_USER'),\n",
    "        'password' : os.environ.get('DB_PASSWORD'),\n",
    "        'host' : os.environ.get('DB_HOST'),\n",
    "        'port' : os.environ.get('DB_PORT'),\n",
    "        'database' : os.environ.get('DB_DATABASE')})\n",
    "    naive_bayes_classifier.data_source= 'sql'\n",
    "\n",
    "    print('UCI SMS SPAM CLASSIFICATION PROBLEM SET\\n  -- implemented by Bernoulli Naive Bayes Model\\n')\n",
    "\n",
    "    # build a tabu list based on the training data\n",
    "    naive_bayes_classifier.tabu_list = naive_bayes_classifier.generate_tabu_list(spam_label=1, valid_label=0)\n",
    "\n",
    "    naive_bayes_classifier.tabu, naive_bayes_classifier.tabu_length = naive_bayes_classifier.read_tabu_list(naive_bayes_classifier.tabu_list)\n",
    "    # train the Naive Bayes Model using training data\n",
    "    naive_bayes_classifier.NaiveBayes=naive_bayes_classifier.learn(spam_label=1)\n",
    "    # Test Model using testing data\n",
    "    naive_bayes_classifier.test(naive_bayes_classifier.NaiveBayes, spam_label=1)\n",
    "    print('>>>Testing')\n",
    "    # I select two messages from the test data here.\n",
    "    naive_bayes_classifier.predict_fraud('I wanted to do something different so I made a list of everything I love about you. I ran out of paper, so I sent this text. You are the absolute best friend anyone could have.')\n",
    "    naive_bayes_classifier.predict_fraud('You are my best friend that I’ve ever had in my life and even in imagination too. Happy Birthday.')\n",
    "    naive_bayes_classifier.predict_fraud('Merry Christmas! Happy baby shopping.')\n",
    "    naive_bayes_classifier.predict_fraud('Merry Christmas! Wish I was there for NutMeg’s First Christmas! Love you all so much!!!')"
   ]
  },
  {
   "cell_type": "code",
   "execution_count": 7,
   "metadata": {},
   "outputs": [
    {
     "name": "stdout",
     "output_type": "stream",
     "text": [
      "UCI SMS SPAM CLASSIFICATION PROBLEM SET\n",
      "  -- implemented by Bernoulli Naive Bayes Model\n",
      "\n",
      ">>>Generating Tabu List...\n",
      "  Tabu List Size: 300\n",
      "   The words shorter than 3 are ignored by model\n",
      "\n",
      ">>>Learning...\n",
      "  Learning Sample Size: 842\n",
      "  Accuarcy (Training sample): 98.69％\n",
      "\n",
      ">>>Cross Validation...\n",
      "  Testing Sample Size: 220\n",
      "  Accuarcy (Testing sample): 99.09％\n",
      "\n",
      ">>>Testing\n",
      "Fraud: I wanted to do something different so I made a list of everything I love about you. I ran out of paper, so I sent this text. You are the absolute best friend anyone could have.\n",
      "Fraud: You are my best friend that I’ve ever had in my life and even in imagination too. Happy Birthday.\n",
      "Not Fraud: Merry Christmas! Happy baby shopping.\n",
      "Not Fraud: Merry Christmas! Wish I was there for NutMeg’s First Christmas! Love you all so much!!!\n"
     ]
    }
   ],
   "source": [
    "build_and_test_model2()"
   ]
  },
  {
   "cell_type": "code",
   "execution_count": null,
   "metadata": {},
   "outputs": [],
   "source": []
  },
  {
   "cell_type": "code",
   "execution_count": null,
   "metadata": {},
   "outputs": [],
   "source": []
  },
  {
   "cell_type": "code",
   "execution_count": null,
   "metadata": {},
   "outputs": [],
   "source": []
  }
 ],
 "metadata": {
  "kernelspec": {
   "display_name": "conda-ml",
   "language": "python",
   "name": "conda-ml"
  },
  "language_info": {
   "codemirror_mode": {
    "name": "ipython",
    "version": 3
   },
   "file_extension": ".py",
   "mimetype": "text/x-python",
   "name": "python",
   "nbconvert_exporter": "python",
   "pygments_lexer": "ipython3",
   "version": "3.7.1"
  }
 },
 "nbformat": 4,
 "nbformat_minor": 2
}
